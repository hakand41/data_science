{
 "cells": [
  {
   "cell_type": "markdown",
   "id": "a3d5db0e-6c76-4117-8672-4af758c18d1e",
   "metadata": {},
   "source": [
    "## USER DEFINED FUNCTION"
   ]
  },
  {
   "cell_type": "code",
   "execution_count": 1,
   "id": "e833cb56-9120-4ab9-b188-74974eff6547",
   "metadata": {},
   "outputs": [
    {
     "name": "stdout",
     "output_type": "stream",
     "text": [
      "1 2 3\n"
     ]
    }
   ],
   "source": [
    "def tuple_ex():\n",
    "    \"\"\" return defined t tuple\"\"\"\n",
    "    t = (1,2,3)\n",
    "    return t\n",
    "a,b,c = tuple_ex()\n",
    "print(a,b,c)"
   ]
  },
  {
   "cell_type": "code",
   "execution_count": 3,
   "id": "23728420-0adf-400b-bc78-dd5296c73a9c",
   "metadata": {},
   "outputs": [
    {
     "name": "stdout",
     "output_type": "stream",
     "text": [
      "2\n",
      "3\n"
     ]
    }
   ],
   "source": [
    "# guess prints what\n",
    "x = 2\n",
    "def f():\n",
    "    x = 3\n",
    "    return x\n",
    "print(x)      # x = 2 global scope\n",
    "print(f())    # x = 3 local scope"
   ]
  },
  {
   "cell_type": "code",
   "execution_count": 4,
   "id": "14a5fba8-2c22-411e-9757-a687d28a55d1",
   "metadata": {},
   "outputs": [
    {
     "name": "stdout",
     "output_type": "stream",
     "text": [
      "10\n"
     ]
    }
   ],
   "source": [
    "# What if there is no local scope\n",
    "x = 5\n",
    "def f():\n",
    "    y = 2*x        # there is no local scope x\n",
    "    return y\n",
    "print(f())         # it uses global scope x  \n",
    "# First local scope searched, then global scope searched, if two of them cannot be found lastly built in scope searched."
   ]
  },
  {
   "cell_type": "code",
   "execution_count": 5,
   "id": "49298829-7dd9-429e-81b6-42d6a8b22d93",
   "metadata": {
    "collapsed": true,
    "jupyter": {
     "outputs_hidden": true
    },
    "tags": []
   },
   "outputs": [
    {
     "data": {
      "text/plain": [
       "['ArithmeticError',\n",
       " 'AssertionError',\n",
       " 'AttributeError',\n",
       " 'BaseException',\n",
       " 'BlockingIOError',\n",
       " 'BrokenPipeError',\n",
       " 'BufferError',\n",
       " 'BytesWarning',\n",
       " 'ChildProcessError',\n",
       " 'ConnectionAbortedError',\n",
       " 'ConnectionError',\n",
       " 'ConnectionRefusedError',\n",
       " 'ConnectionResetError',\n",
       " 'DeprecationWarning',\n",
       " 'EOFError',\n",
       " 'Ellipsis',\n",
       " 'EnvironmentError',\n",
       " 'Exception',\n",
       " 'False',\n",
       " 'FileExistsError',\n",
       " 'FileNotFoundError',\n",
       " 'FloatingPointError',\n",
       " 'FutureWarning',\n",
       " 'GeneratorExit',\n",
       " 'IOError',\n",
       " 'ImportError',\n",
       " 'ImportWarning',\n",
       " 'IndentationError',\n",
       " 'IndexError',\n",
       " 'InterruptedError',\n",
       " 'IsADirectoryError',\n",
       " 'KeyError',\n",
       " 'KeyboardInterrupt',\n",
       " 'LookupError',\n",
       " 'MemoryError',\n",
       " 'ModuleNotFoundError',\n",
       " 'NameError',\n",
       " 'None',\n",
       " 'NotADirectoryError',\n",
       " 'NotImplemented',\n",
       " 'NotImplementedError',\n",
       " 'OSError',\n",
       " 'OverflowError',\n",
       " 'PendingDeprecationWarning',\n",
       " 'PermissionError',\n",
       " 'ProcessLookupError',\n",
       " 'RecursionError',\n",
       " 'ReferenceError',\n",
       " 'ResourceWarning',\n",
       " 'RuntimeError',\n",
       " 'RuntimeWarning',\n",
       " 'StopAsyncIteration',\n",
       " 'StopIteration',\n",
       " 'SyntaxError',\n",
       " 'SyntaxWarning',\n",
       " 'SystemError',\n",
       " 'SystemExit',\n",
       " 'TabError',\n",
       " 'TimeoutError',\n",
       " 'True',\n",
       " 'TypeError',\n",
       " 'UnboundLocalError',\n",
       " 'UnicodeDecodeError',\n",
       " 'UnicodeEncodeError',\n",
       " 'UnicodeError',\n",
       " 'UnicodeTranslateError',\n",
       " 'UnicodeWarning',\n",
       " 'UserWarning',\n",
       " 'ValueError',\n",
       " 'Warning',\n",
       " 'WindowsError',\n",
       " 'ZeroDivisionError',\n",
       " '__IPYTHON__',\n",
       " '__build_class__',\n",
       " '__debug__',\n",
       " '__doc__',\n",
       " '__import__',\n",
       " '__loader__',\n",
       " '__name__',\n",
       " '__package__',\n",
       " '__spec__',\n",
       " 'abs',\n",
       " 'all',\n",
       " 'any',\n",
       " 'ascii',\n",
       " 'bin',\n",
       " 'bool',\n",
       " 'breakpoint',\n",
       " 'bytearray',\n",
       " 'bytes',\n",
       " 'callable',\n",
       " 'chr',\n",
       " 'classmethod',\n",
       " 'compile',\n",
       " 'complex',\n",
       " 'copyright',\n",
       " 'credits',\n",
       " 'delattr',\n",
       " 'dict',\n",
       " 'dir',\n",
       " 'display',\n",
       " 'divmod',\n",
       " 'enumerate',\n",
       " 'eval',\n",
       " 'exec',\n",
       " 'execfile',\n",
       " 'filter',\n",
       " 'float',\n",
       " 'format',\n",
       " 'frozenset',\n",
       " 'get_ipython',\n",
       " 'getattr',\n",
       " 'globals',\n",
       " 'hasattr',\n",
       " 'hash',\n",
       " 'help',\n",
       " 'hex',\n",
       " 'id',\n",
       " 'input',\n",
       " 'int',\n",
       " 'isinstance',\n",
       " 'issubclass',\n",
       " 'iter',\n",
       " 'len',\n",
       " 'license',\n",
       " 'list',\n",
       " 'locals',\n",
       " 'map',\n",
       " 'max',\n",
       " 'memoryview',\n",
       " 'min',\n",
       " 'next',\n",
       " 'object',\n",
       " 'oct',\n",
       " 'open',\n",
       " 'ord',\n",
       " 'pow',\n",
       " 'print',\n",
       " 'property',\n",
       " 'range',\n",
       " 'repr',\n",
       " 'reversed',\n",
       " 'round',\n",
       " 'runfile',\n",
       " 'set',\n",
       " 'setattr',\n",
       " 'slice',\n",
       " 'sorted',\n",
       " 'staticmethod',\n",
       " 'str',\n",
       " 'sum',\n",
       " 'super',\n",
       " 'tuple',\n",
       " 'type',\n",
       " 'vars',\n",
       " 'zip']"
      ]
     },
     "execution_count": 5,
     "metadata": {},
     "output_type": "execute_result"
    }
   ],
   "source": [
    "import builtins\n",
    "dir(builtins)\n"
   ]
  },
  {
   "cell_type": "markdown",
   "id": "92b599cf-81c6-43c0-9147-53ed1d208f40",
   "metadata": {},
   "source": [
    "## Nested, Default, Flexible, Lambda, Anonymous Functions"
   ]
  },
  {
   "cell_type": "code",
   "execution_count": 6,
   "id": "fd6397ba-2609-40a2-b46d-78312ce44d22",
   "metadata": {},
   "outputs": [
    {
     "name": "stdout",
     "output_type": "stream",
     "text": [
      "25\n"
     ]
    }
   ],
   "source": [
    "#nested function\n",
    "def square():\n",
    "    \"\"\" return square of value \"\"\"\n",
    "    def add():\n",
    "        \"\"\" add two local variable \"\"\"\n",
    "        x = 2\n",
    "        y = 3\n",
    "        z = x + y\n",
    "        return z\n",
    "    return add()**2\n",
    "print(square())    "
   ]
  },
  {
   "cell_type": "code",
   "execution_count": 7,
   "id": "96c13d68-6051-4ea1-bef7-fde41606f391",
   "metadata": {},
   "outputs": [
    {
     "name": "stdout",
     "output_type": "stream",
     "text": [
      "8\n",
      "12\n"
     ]
    }
   ],
   "source": [
    "# default arguments\n",
    "def f(a, b = 1, c = 2):\n",
    "    y = a + b + c\n",
    "    return y\n",
    "print(f(5))\n",
    "# what if we want to change default arguments\n",
    "print(f(5,4,3))"
   ]
  },
  {
   "cell_type": "code",
   "execution_count": 8,
   "id": "c0016215-7b7a-4732-96e7-f655ac8c26d9",
   "metadata": {},
   "outputs": [
    {
     "name": "stdout",
     "output_type": "stream",
     "text": [
      "1\n",
      "\n",
      "1\n",
      "2\n",
      "3\n",
      "4\n",
      "country   spain\n",
      "capital   madrid\n",
      "population   123456\n"
     ]
    }
   ],
   "source": [
    "# flexible arguments *args\n",
    "def f(*args):\n",
    "    for i in args:\n",
    "        print(i)\n",
    "f(1)\n",
    "print(\"\")\n",
    "f(1,2,3,4)\n",
    "# flexible arguments **kwargs that is dictionary\n",
    "def f(**kwargs):\n",
    "    \"\"\" print key and value of dictionary\"\"\"\n",
    "    for key, value in kwargs.items():               # If you do not understand this part turn for loop part and look at dictionary in for loop\n",
    "        print(key, \" \", value)\n",
    "f(country = 'spain', capital = 'madrid', population = 123456)"
   ]
  },
  {
   "cell_type": "code",
   "execution_count": 9,
   "id": "42f27c61-c42a-47e2-a8c9-b002b6268750",
   "metadata": {},
   "outputs": [
    {
     "name": "stdout",
     "output_type": "stream",
     "text": [
      "16\n",
      "6\n"
     ]
    }
   ],
   "source": [
    "# lambda function\n",
    "square = lambda x: x**2     # where x is name of argument\n",
    "print(square(4))\n",
    "tot = lambda x,y,z: x+y+z   # where x,y,z are names of arguments\n",
    "print(tot(1,2,3))"
   ]
  },
  {
   "cell_type": "code",
   "execution_count": 10,
   "id": "8008d813-afec-46b4-90ff-3bd8f80c04fc",
   "metadata": {},
   "outputs": [
    {
     "name": "stdout",
     "output_type": "stream",
     "text": [
      "[1, 4, 9]\n"
     ]
    }
   ],
   "source": [
    "number_list = [1,2,3]\n",
    "y = map(lambda x:x**2,number_list)\n",
    "print(list(y))"
   ]
  },
  {
   "cell_type": "markdown",
   "id": "ea53afd7-5802-462c-b420-f35d08d979c8",
   "metadata": {},
   "source": [
    "## Iterators and List Comprehension"
   ]
  },
  {
   "cell_type": "code",
   "execution_count": 11,
   "id": "7ac30c45-8c4b-430b-8026-8aec651b35f1",
   "metadata": {},
   "outputs": [
    {
     "name": "stdout",
     "output_type": "stream",
     "text": [
      "r\n",
      "o n a l d o\n"
     ]
    }
   ],
   "source": [
    "# iteration example\n",
    "name = \"ronaldo\"\n",
    "it = iter(name)\n",
    "print(next(it))    # print next iteration\n",
    "print(*it)         # print remaining iteration"
   ]
  },
  {
   "cell_type": "code",
   "execution_count": 12,
   "id": "1630d7d0-f62a-44cc-8475-f8487f92dea3",
   "metadata": {},
   "outputs": [
    {
     "name": "stdout",
     "output_type": "stream",
     "text": [
      "<zip object at 0x000001C62742B580>\n",
      "[(1, 5), (2, 6), (3, 7), (4, 8)]\n"
     ]
    }
   ],
   "source": [
    "# zip example\n",
    "list1 = [1,2,3,4]\n",
    "list2 = [5,6,7,8]\n",
    "z = zip(list1,list2)\n",
    "print(z)\n",
    "z_list = list(z)\n",
    "print(z_list)"
   ]
  },
  {
   "cell_type": "code",
   "execution_count": 13,
   "id": "2ba04292-f956-4685-90b6-1aca86133161",
   "metadata": {},
   "outputs": [
    {
     "name": "stdout",
     "output_type": "stream",
     "text": [
      "(1, 2, 3, 4)\n",
      "(5, 6, 7, 8)\n",
      "<class 'tuple'>\n"
     ]
    }
   ],
   "source": [
    "un_zip = zip(*z_list)\n",
    "un_list1,un_list2 = list(un_zip) # unzip returns tuple\n",
    "print(un_list1)\n",
    "print(un_list2)\n",
    "print(type(un_list2))"
   ]
  },
  {
   "cell_type": "code",
   "execution_count": 14,
   "id": "ae63d0f0-2923-41e7-b5ba-1fcae16d1cae",
   "metadata": {},
   "outputs": [
    {
     "name": "stdout",
     "output_type": "stream",
     "text": [
      "[2, 3, 4]\n"
     ]
    }
   ],
   "source": [
    "# Example of list comprehension\n",
    "num1 = [1,2,3]\n",
    "num2 = [i + 1 for i in num1 ]\n",
    "print(num2)"
   ]
  },
  {
   "cell_type": "code",
   "execution_count": 15,
   "id": "7252cba6-3f31-4f36-b931-09c3ef037b27",
   "metadata": {},
   "outputs": [
    {
     "name": "stdout",
     "output_type": "stream",
     "text": [
      "[0, 100, 20]\n"
     ]
    }
   ],
   "source": [
    "# Conditionals on iterable\n",
    "num1 = [5,10,15]\n",
    "num2 = [i**2 if i == 10 else i-5 if i < 7 else i+5 for i in num1]\n",
    "print(num2)"
   ]
  },
  {
   "cell_type": "code",
   "execution_count": 18,
   "id": "89096107-56a7-4090-a8fa-e9e2c2525912",
   "metadata": {},
   "outputs": [
    {
     "data": {
      "text/html": [
       "<div>\n",
       "<style scoped>\n",
       "    .dataframe tbody tr th:only-of-type {\n",
       "        vertical-align: middle;\n",
       "    }\n",
       "\n",
       "    .dataframe tbody tr th {\n",
       "        vertical-align: top;\n",
       "    }\n",
       "\n",
       "    .dataframe thead th {\n",
       "        text-align: right;\n",
       "    }\n",
       "</style>\n",
       "<table border=\"1\" class=\"dataframe\">\n",
       "  <thead>\n",
       "    <tr style=\"text-align: right;\">\n",
       "      <th></th>\n",
       "      <th>speed_level</th>\n",
       "      <th>Speed</th>\n",
       "    </tr>\n",
       "  </thead>\n",
       "  <tbody>\n",
       "    <tr>\n",
       "      <th>0</th>\n",
       "      <td>low</td>\n",
       "      <td>45</td>\n",
       "    </tr>\n",
       "    <tr>\n",
       "      <th>1</th>\n",
       "      <td>low</td>\n",
       "      <td>60</td>\n",
       "    </tr>\n",
       "    <tr>\n",
       "      <th>2</th>\n",
       "      <td>high</td>\n",
       "      <td>80</td>\n",
       "    </tr>\n",
       "    <tr>\n",
       "      <th>3</th>\n",
       "      <td>high</td>\n",
       "      <td>80</td>\n",
       "    </tr>\n",
       "    <tr>\n",
       "      <th>4</th>\n",
       "      <td>low</td>\n",
       "      <td>65</td>\n",
       "    </tr>\n",
       "    <tr>\n",
       "      <th>5</th>\n",
       "      <td>high</td>\n",
       "      <td>80</td>\n",
       "    </tr>\n",
       "    <tr>\n",
       "      <th>6</th>\n",
       "      <td>high</td>\n",
       "      <td>100</td>\n",
       "    </tr>\n",
       "    <tr>\n",
       "      <th>7</th>\n",
       "      <td>high</td>\n",
       "      <td>100</td>\n",
       "    </tr>\n",
       "    <tr>\n",
       "      <th>8</th>\n",
       "      <td>high</td>\n",
       "      <td>100</td>\n",
       "    </tr>\n",
       "    <tr>\n",
       "      <th>9</th>\n",
       "      <td>low</td>\n",
       "      <td>43</td>\n",
       "    </tr>\n",
       "    <tr>\n",
       "      <th>10</th>\n",
       "      <td>low</td>\n",
       "      <td>58</td>\n",
       "    </tr>\n",
       "  </tbody>\n",
       "</table>\n",
       "</div>"
      ],
      "text/plain": [
       "   speed_level  Speed\n",
       "0          low     45\n",
       "1          low     60\n",
       "2         high     80\n",
       "3         high     80\n",
       "4          low     65\n",
       "5         high     80\n",
       "6         high    100\n",
       "7         high    100\n",
       "8         high    100\n",
       "9          low     43\n",
       "10         low     58"
      ]
     },
     "execution_count": 18,
     "metadata": {},
     "output_type": "execute_result"
    }
   ],
   "source": [
    "import pandas as pd\n",
    "data = pd.read_csv(\"pokemon.csv\")\n",
    "# lets return pokemon csv and make one more list comprehension example\n",
    "# lets classify pokemons whether they have high or low speed. Our threshold is average speed.\n",
    "threshold = sum(data.Speed)/len(data.Speed)\n",
    "data[\"speed_level\"] = [\"high\" if i > threshold else \"low\" for i in data.Speed]\n",
    "data.loc[:10,[\"speed_level\",\"Speed\"]] # we will learn loc more detailed later"
   ]
  },
  {
   "cell_type": "code",
   "execution_count": null,
   "id": "3ce1bdee-717b-4047-b285-4ff3f38fb7cb",
   "metadata": {},
   "outputs": [],
   "source": []
  }
 ],
 "metadata": {
  "kernelspec": {
   "display_name": "Python 3 (ipykernel)",
   "language": "python",
   "name": "python3"
  },
  "language_info": {
   "codemirror_mode": {
    "name": "ipython",
    "version": 3
   },
   "file_extension": ".py",
   "mimetype": "text/x-python",
   "name": "python",
   "nbconvert_exporter": "python",
   "pygments_lexer": "ipython3",
   "version": "3.9.13"
  }
 },
 "nbformat": 4,
 "nbformat_minor": 5
}
